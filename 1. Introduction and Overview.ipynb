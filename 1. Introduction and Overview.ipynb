{
 "cells": [
  {
   "cell_type": "markdown",
   "id": "8ae18d20",
   "metadata": {},
   "source": [
    "### Variables"
   ]
  },
  {
   "cell_type": "code",
   "execution_count": null,
   "id": "7f6841fa",
   "metadata": {},
   "outputs": [],
   "source": [
    "# create a variable\n",
    "?\n",
    "# a"
   ]
  },
  {
   "cell_type": "code",
   "execution_count": null,
   "id": "0cef2a0e",
   "metadata": {},
   "outputs": [],
   "source": [
    "# print the value of variable\n",
    "?"
   ]
  },
  {
   "cell_type": "code",
   "execution_count": null,
   "id": "704f2266",
   "metadata": {},
   "outputs": [],
   "source": [
    "# print any msg on output\n",
    "?"
   ]
  },
  {
   "cell_type": "code",
   "execution_count": null,
   "id": "4887b7a1",
   "metadata": {},
   "outputs": [],
   "source": [
    "# check data type of a variable\n",
    "?"
   ]
  },
  {
   "cell_type": "code",
   "execution_count": null,
   "id": "755ca9cc",
   "metadata": {},
   "outputs": [],
   "source": [
    "# Assign multiple values to multiple variables\n",
    "?"
   ]
  },
  {
   "cell_type": "code",
   "execution_count": null,
   "id": "1d14717e",
   "metadata": {},
   "outputs": [],
   "source": [
    "# try printing a or b or c\n",
    "?"
   ]
  },
  {
   "cell_type": "code",
   "execution_count": null,
   "id": "38cdefc5",
   "metadata": {},
   "outputs": [],
   "source": [
    "# another way of declaring multiple variables in single statement\n",
    "?"
   ]
  },
  {
   "cell_type": "code",
   "execution_count": null,
   "id": "c0cc9181",
   "metadata": {},
   "outputs": [],
   "source": [
    "# try printing a or b or c\n",
    "?"
   ]
  },
  {
   "cell_type": "code",
   "execution_count": null,
   "id": "582a4170",
   "metadata": {},
   "outputs": [],
   "source": [
    "# Assign same value to multiple variables\n",
    "?"
   ]
  },
  {
   "cell_type": "code",
   "execution_count": null,
   "id": "58a36499",
   "metadata": {},
   "outputs": [],
   "source": [
    "# print value\n",
    "?"
   ]
  },
  {
   "cell_type": "code",
   "execution_count": null,
   "id": "6a2eb105",
   "metadata": {},
   "outputs": [],
   "source": [
    "#python is case sensitive\n",
    "?"
   ]
  },
  {
   "cell_type": "code",
   "execution_count": null,
   "id": "15fe7605",
   "metadata": {},
   "outputs": [],
   "source": [
    "new"
   ]
  },
  {
   "cell_type": "code",
   "execution_count": null,
   "id": "a278487d",
   "metadata": {},
   "outputs": [],
   "source": [
    "New"
   ]
  },
  {
   "cell_type": "code",
   "execution_count": null,
   "id": "5809c04e",
   "metadata": {},
   "outputs": [],
   "source": [
    "?       # An integer assignment\n",
    "?      # A floating point\n",
    "?       # A string\n",
    "?\n",
    "?\n",
    "\n",
    "\n",
    "print(counter)\n",
    "print(miles)\n",
    "print(name)\n",
    "print(d)\n",
    "print(e)"
   ]
  },
  {
   "cell_type": "code",
   "execution_count": null,
   "id": "7666bd27",
   "metadata": {},
   "outputs": [],
   "source": [
    "print(?)\n",
    "print(?)\n",
    "print(?)\n",
    "print(?)\n",
    "print(?)"
   ]
  },
  {
   "cell_type": "code",
   "execution_count": null,
   "id": "1c0a0e65",
   "metadata": {},
   "outputs": [],
   "source": []
  },
  {
   "cell_type": "markdown",
   "id": "dc7041ee",
   "metadata": {},
   "source": [
    "## Keywords"
   ]
  },
  {
   "cell_type": "markdown",
   "id": "63ca60fe",
   "metadata": {},
   "source": [
    "All the keywords except True, False and None are in lowercase and they must be written as they are.\n",
    "\n",
    "The list of all the keywords is given below.\n",
    "\n",
    "False\tawait\telse\timport\tpass\n",
    "\n",
    "None\tbreak\texcept\tin\traise\n",
    "\n",
    "True\tclass\tfinally\tis\treturn\n",
    "\n",
    "and\tcontinue\tfor\tlambda\ttry\n",
    "\n",
    "as\tdef\tfrom\tnonlocal\twhile\n",
    "\n",
    "assert\tdel\tglobal\tnot\twith\n",
    "\n",
    "async\telif\tif\tor\tyield\n"
   ]
  },
  {
   "cell_type": "markdown",
   "id": "285a0319",
   "metadata": {},
   "source": [
    "## Input-Output"
   ]
  },
  {
   "cell_type": "code",
   "execution_count": null,
   "id": "cc6dce96",
   "metadata": {},
   "outputs": [],
   "source": [
    "a = 10\n",
    "print(?)"
   ]
  },
  {
   "cell_type": "code",
   "execution_count": null,
   "id": "a3cdce36",
   "metadata": {},
   "outputs": [],
   "source": [
    "print(?)"
   ]
  },
  {
   "cell_type": "code",
   "execution_count": null,
   "id": "8788bfae",
   "metadata": {},
   "outputs": [],
   "source": [
    "print(\"welcome\")\n",
    "print(\"to all\")"
   ]
  },
  {
   "cell_type": "code",
   "execution_count": null,
   "id": "fcc86e65",
   "metadata": {},
   "outputs": [],
   "source": [
    "# with end parameter end =''\n",
    "print(?)\n",
    "print(?)"
   ]
  },
  {
   "cell_type": "code",
   "execution_count": null,
   "id": "2655ae81",
   "metadata": {},
   "outputs": [],
   "source": [
    "# taking user input \n",
    "\n",
    "?"
   ]
  },
  {
   "cell_type": "code",
   "execution_count": null,
   "id": "a5fd01fe",
   "metadata": {},
   "outputs": [],
   "source": [
    "# print the value\n",
    "?"
   ]
  },
  {
   "cell_type": "code",
   "execution_count": null,
   "id": "da28ffac",
   "metadata": {},
   "outputs": [],
   "source": [
    "a = ?\n",
    "b = ?\n",
    "c = ?\n",
    "print(c)"
   ]
  },
  {
   "cell_type": "code",
   "execution_count": null,
   "id": "c166b9d1",
   "metadata": {},
   "outputs": [],
   "source": [
    "a = ?\n",
    "b = ?\n",
    "c = ?\n",
    "print(c)"
   ]
  },
  {
   "cell_type": "code",
   "execution_count": null,
   "id": "085d603f",
   "metadata": {},
   "outputs": [],
   "source": [
    "a=input(\"Enter the value of a: \")\n",
    "print(type(a))\n",
    "b=input(\"Enter the value of b: \")\n",
    "print(type(b))\n",
    "a = int(a)\n",
    "print(type(a))\n",
    "b = int(b)\n",
    "print(type(b))\n",
    "c=a+b\n",
    "print(c)"
   ]
  },
  {
   "cell_type": "code",
   "execution_count": null,
   "id": "05ed99ec",
   "metadata": {},
   "outputs": [],
   "source": [
    "# split() method to write multiple imputs in a single line\n",
    "v1=?\n",
    "print(v1)"
   ]
  },
  {
   "cell_type": "code",
   "execution_count": null,
   "id": "f232c488",
   "metadata": {},
   "outputs": [],
   "source": [
    "type(v1)"
   ]
  },
  {
   "cell_type": "code",
   "execution_count": null,
   "id": "6ec1a3be",
   "metadata": {},
   "outputs": [],
   "source": [
    "## just another way\n",
    "var=?"
   ]
  },
  {
   "cell_type": "code",
   "execution_count": null,
   "id": "9474a03d",
   "metadata": {},
   "outputs": [],
   "source": [
    "var"
   ]
  },
  {
   "cell_type": "code",
   "execution_count": null,
   "id": "5c30364b",
   "metadata": {},
   "outputs": [],
   "source": [
    "?"
   ]
  },
  {
   "cell_type": "code",
   "execution_count": null,
   "id": "9f2d5e2e",
   "metadata": {},
   "outputs": [],
   "source": [
    "var1"
   ]
  },
  {
   "cell_type": "code",
   "execution_count": null,
   "id": "15716320",
   "metadata": {},
   "outputs": [],
   "source": [
    "var2"
   ]
  },
  {
   "cell_type": "code",
   "execution_count": null,
   "id": "c3de51f4",
   "metadata": {},
   "outputs": [],
   "source": [
    "a = input().split('a')\n",
    "a"
   ]
  },
  {
   "cell_type": "code",
   "execution_count": null,
   "id": "22eb285b",
   "metadata": {},
   "outputs": [],
   "source": [
    "#Display float number with 2 decimal places using print()\n",
    "\n",
    "a3=?\n",
    "print(?)"
   ]
  },
  {
   "cell_type": "markdown",
   "id": "ad983e0b",
   "metadata": {},
   "source": [
    "## Multiline Statement in Python"
   ]
  },
  {
   "cell_type": "code",
   "execution_count": null,
   "id": "9c5d128d",
   "metadata": {},
   "outputs": [],
   "source": [
    "# Statements of python ends with new line character\n",
    "#MultiLine Statement in python\n",
    "#another way of creating variable \n",
    "a,b,c=10,20,30\n",
    "\n",
    "?\n",
    "?\n",
    "?\n",
    "\n",
    "print(total)"
   ]
  },
  {
   "cell_type": "markdown",
   "id": "c3625abb",
   "metadata": {},
   "source": [
    "## Strings In Python"
   ]
  },
  {
   "cell_type": "code",
   "execution_count": null,
   "id": "426de6ab",
   "metadata": {},
   "outputs": [],
   "source": [
    "#Python accepts single ('), double (\") and triple (''' or \"\"\") quotes\n",
    "# to denote string literals, as long as the same type of quote starts and ends\n",
    "# the string.\n",
    "#The triple quotes are used to span the string across multiple lines. \n",
    "#For example, all the following are legal:\n",
    "\n",
    "\n",
    "word = 'word'\n",
    "sentence = \"This is a sentence.\"\n",
    "paragraph = \"\"\"This is a paragraph.\n",
    "It is made up of multiple lines and sentences.\"\"\"\n",
    "print(word, sentence, paragraph)"
   ]
  },
  {
   "cell_type": "markdown",
   "id": "1ea4617d",
   "metadata": {},
   "source": [
    "## Arithmetic Operators"
   ]
  },
  {
   "cell_type": "code",
   "execution_count": null,
   "id": "cd79a04a",
   "metadata": {},
   "outputs": [],
   "source": [
    "a = 2\n",
    "b = 15\n",
    "c = 0"
   ]
  },
  {
   "cell_type": "code",
   "execution_count": null,
   "id": "95ed4c4c",
   "metadata": {},
   "outputs": [],
   "source": [
    "c = ?\n",
    "print (\"Addition of a and b is: \", c)\n"
   ]
  },
  {
   "cell_type": "code",
   "execution_count": null,
   "id": "870c56e1",
   "metadata": {},
   "outputs": [],
   "source": [
    "c = ?\n",
    "print (\"Subtraction of a and b is: \", c)\n"
   ]
  },
  {
   "cell_type": "code",
   "execution_count": null,
   "id": "da4ab3b3",
   "metadata": {},
   "outputs": [],
   "source": [
    "c = ?\n",
    "print (\"Multiplication of a and b is: \", c)\n"
   ]
  },
  {
   "cell_type": "code",
   "execution_count": null,
   "id": "fc657ea1",
   "metadata": {},
   "outputs": [],
   "source": [
    "c = ?\n",
    "print (\"Division of a and b is: \", c)\n"
   ]
  },
  {
   "cell_type": "code",
   "execution_count": null,
   "id": "e81d50e7",
   "metadata": {},
   "outputs": [],
   "source": [
    "num1 = 155\n",
    "num2 = 10\n",
    "c = ?\n",
    "print (\"Division of num1 and num2 is: \", c)"
   ]
  },
  {
   "cell_type": "code",
   "execution_count": null,
   "id": "d302e458",
   "metadata": {},
   "outputs": [],
   "source": [
    "num1 = 155\n",
    "num2 = 10\n",
    "c = ?\n",
    "print (\"Division of num1 and num2 is: \", c)"
   ]
  },
  {
   "cell_type": "code",
   "execution_count": null,
   "id": "c9ae64fd",
   "metadata": {},
   "outputs": [],
   "source": [
    "c = ?\n",
    "print (\"Modulus of a and b is: \", c)\n"
   ]
  },
  {
   "cell_type": "code",
   "execution_count": null,
   "id": "a641e2af",
   "metadata": {},
   "outputs": [],
   "source": [
    "c = ?\n",
    "print (\"Exponent of a and b is: \", c)\n"
   ]
  },
  {
   "cell_type": "code",
   "execution_count": null,
   "id": "19118bad",
   "metadata": {},
   "outputs": [],
   "source": [
    "# possible\n",
    "a = 10\n",
    "b = 20.0\n",
    "print(?)"
   ]
  },
  {
   "cell_type": "code",
   "execution_count": null,
   "id": "03c6f30b",
   "metadata": {},
   "outputs": [],
   "source": [
    "# not possible\n",
    "a = 10\n",
    "b = 'string1'\n",
    "print(?)"
   ]
  },
  {
   "cell_type": "markdown",
   "id": "0d651dd6",
   "metadata": {},
   "source": [
    "## Indentation and comment"
   ]
  },
  {
   "cell_type": "markdown",
   "id": "f51cc045",
   "metadata": {},
   "source": [
    "It is a code block (body of a function, loop, etc.) starts with indentation.\n",
    "Generally, four whitespaces are used for indentation and are preferred over tabs.\n",
    "\n",
    "Comment: A Python comment is a line of text that appears in a program but is not executed by the program."
   ]
  },
  {
   "cell_type": "markdown",
   "id": "d89779ef",
   "metadata": {},
   "source": [
    "## Comparison Operators"
   ]
  },
  {
   "cell_type": "code",
   "execution_count": null,
   "id": "a9cb27db",
   "metadata": {},
   "outputs": [],
   "source": [
    "a = 21\n",
    "b = 10"
   ]
  },
  {
   "cell_type": "code",
   "execution_count": null,
   "id": "9b8b5278",
   "metadata": {},
   "outputs": [],
   "source": [
    "?"
   ]
  },
  {
   "cell_type": "code",
   "execution_count": null,
   "id": "bf1fac83",
   "metadata": {},
   "outputs": [],
   "source": [
    "if (?):\n",
    "    print (\"a is equal to b\")\n",
    "else: \n",
    "    print (\"a is not equal to b\")"
   ]
  },
  {
   "cell_type": "code",
   "execution_count": null,
   "id": "61ea63f3",
   "metadata": {},
   "outputs": [],
   "source": [
    "if ( ? ):\n",
    "    print (\"a is not equal to b\")\n",
    "else:\n",
    "    print (\"a is equal to b\")"
   ]
  },
  {
   "cell_type": "code",
   "execution_count": null,
   "id": "36e77934",
   "metadata": {},
   "outputs": [],
   "source": [
    "if ( ? ):\n",
    "    print (\"a is less than b\")\n",
    "else:\n",
    "    print (\"a is not less than b\")"
   ]
  },
  {
   "cell_type": "code",
   "execution_count": null,
   "id": "5c65ce45",
   "metadata": {},
   "outputs": [],
   "source": [
    "if ( ? ):\n",
    "    print (\"a is greater than b\")\n",
    "else:\n",
    "    print (\"a is not greater than b\")"
   ]
  },
  {
   "cell_type": "code",
   "execution_count": null,
   "id": "0c10d948",
   "metadata": {},
   "outputs": [],
   "source": [
    "if ( ? ):\n",
    "    print (\"a is either less than or equal to b\")\n",
    "else:\n",
    "    print (\"a is neither less than nor equal to b\")"
   ]
  },
  {
   "cell_type": "code",
   "execution_count": null,
   "id": "911ed5c3",
   "metadata": {},
   "outputs": [],
   "source": [
    "if ( ? ):\n",
    "    print (\"b is either greater than or equal to b\")\n",
    "else:\n",
    "    print (\"b is neither greater than nor equal to b\")"
   ]
  },
  {
   "cell_type": "code",
   "execution_count": null,
   "id": "22120aac",
   "metadata": {},
   "outputs": [],
   "source": [
    "# simple demo of return value by == operator\n",
    "\n",
    "a = 0\n",
    "b = 10\n",
    "x = ?\n",
    "y = (?)\n",
    "print(\"X is: \",x) \n",
    "print(\"Y is: \",y)"
   ]
  },
  {
   "cell_type": "markdown",
   "id": "6c4c621b",
   "metadata": {},
   "source": [
    "## Logical Operators"
   ]
  },
  {
   "cell_type": "code",
   "execution_count": null,
   "id": "151fd811",
   "metadata": {},
   "outputs": [],
   "source": [
    "print(True and True)\n",
    "print(True and False)\n",
    "print(False and False)\n",
    "print(True and None)\n",
    "print(False and None)"
   ]
  },
  {
   "cell_type": "code",
   "execution_count": null,
   "id": "bc600c97",
   "metadata": {},
   "outputs": [],
   "source": [
    "print(True or True)\n",
    "print(True or False)\n",
    "print(False or False)\n",
    "print(True or None)\n",
    "print(False or None)"
   ]
  },
  {
   "cell_type": "code",
   "execution_count": null,
   "id": "5382c79b",
   "metadata": {},
   "outputs": [],
   "source": [
    "print(not True)\n",
    "print(not False)\n",
    "print(not None)"
   ]
  },
  {
   "cell_type": "markdown",
   "id": "4bd8ccf2",
   "metadata": {},
   "source": [
    "## Bitwise Operators"
   ]
  },
  {
   "cell_type": "code",
   "execution_count": null,
   "id": "d061ae2c",
   "metadata": {},
   "outputs": [],
   "source": [
    "print(?)  ## 10 & 100  --> 000\n",
    "print(?) ## 1010 & 1011 --> 1010"
   ]
  },
  {
   "cell_type": "code",
   "execution_count": null,
   "id": "1d6a0c88",
   "metadata": {},
   "outputs": [],
   "source": [
    "print(?)  ## 101 | 110 -->111\n",
    "print(?) ## 1010 & 10000 --> 11010"
   ]
  },
  {
   "cell_type": "code",
   "execution_count": null,
   "id": "838152fe",
   "metadata": {},
   "outputs": [],
   "source": [
    "print(?) ## ~1000 -> 11001 (-1-8)"
   ]
  },
  {
   "cell_type": "code",
   "execution_count": null,
   "id": "93415bf7",
   "metadata": {},
   "outputs": [],
   "source": [
    "print(?) ## 101 ^ 110 --> 011"
   ]
  },
  {
   "cell_type": "code",
   "execution_count": null,
   "id": "59e9b74e",
   "metadata": {},
   "outputs": [],
   "source": [
    "print(?) ## 101 --> 0010"
   ]
  },
  {
   "cell_type": "code",
   "execution_count": null,
   "id": "8918b76a",
   "metadata": {},
   "outputs": [],
   "source": [
    "print(u?) ## 1010 --> 10100"
   ]
  },
  {
   "cell_type": "markdown",
   "id": "22a952d1",
   "metadata": {},
   "source": [
    "## Ternary Operator"
   ]
  },
  {
   "cell_type": "code",
   "execution_count": null,
   "id": "5da93acd",
   "metadata": {},
   "outputs": [],
   "source": [
    "a, b = 20, 30\n",
    "large = ?\n",
    "print(large)"
   ]
  },
  {
   "cell_type": "markdown",
   "id": "ee300f14",
   "metadata": {},
   "source": [
    "## Membership Operators"
   ]
  },
  {
   "cell_type": "code",
   "execution_count": null,
   "id": "87e6aa9d",
   "metadata": {},
   "outputs": [],
   "source": [
    "#  in operator\n",
    "\n",
    "list1 = ?\n",
    "?\n",
    "if (?):\n",
    "    print (\"a is present in list1\")\n",
    "else:\n",
    "    print (\"a is not present in list1\")"
   ]
  },
  {
   "cell_type": "code",
   "execution_count": null,
   "id": "8c3c51fc",
   "metadata": {},
   "outputs": [],
   "source": [
    "?"
   ]
  },
  {
   "cell_type": "code",
   "execution_count": null,
   "id": "8610d958",
   "metadata": {},
   "outputs": [],
   "source": [
    "# in operator\n",
    "a = 1\n",
    "if ( ?):\n",
    "    print (\"a is present in list1\")\n",
    "else:\n",
    "    print (\"a is not present in list1\")"
   ]
  },
  {
   "cell_type": "code",
   "execution_count": null,
   "id": "eaff2987",
   "metadata": {},
   "outputs": [],
   "source": [
    "?"
   ]
  },
  {
   "cell_type": "code",
   "execution_count": null,
   "id": "71ddd11e",
   "metadata": {},
   "outputs": [],
   "source": [
    "# not in operator\n",
    "\n",
    "b = 5\n",
    "if ( ?):\n",
    "    print (\"b is not present in list1\")\n",
    "else:\n",
    "    print (\"b is present in list1\")"
   ]
  },
  {
   "cell_type": "code",
   "execution_count": null,
   "id": "310dda90",
   "metadata": {},
   "outputs": [],
   "source": [
    "# not in operator\n",
    "\n",
    "b = 50\n",
    "if ( ?):\n",
    "    print (\"b is not present in list1\")\n",
    "else:\n",
    "    print (\"b is present in list1\")"
   ]
  },
  {
   "cell_type": "code",
   "execution_count": null,
   "id": "35dd8835",
   "metadata": {},
   "outputs": [],
   "source": [
    "# strings are case sensitive\n",
    "\n",
    "?"
   ]
  },
  {
   "cell_type": "code",
   "execution_count": null,
   "id": "8672cb52",
   "metadata": {},
   "outputs": [],
   "source": [
    "## what works and what not\n",
    "\n",
    "# 'd' in 'deloitte' \n",
    "\n",
    "# 10 in 20\n",
    "\n",
    "# str = 'str'\n",
    "\n",
    "# str in 'string'"
   ]
  },
  {
   "cell_type": "markdown",
   "id": "303b889a",
   "metadata": {},
   "source": [
    "## Identity Operators"
   ]
  },
  {
   "cell_type": "code",
   "execution_count": null,
   "id": "a55fba7b",
   "metadata": {},
   "outputs": [],
   "source": [
    "a = 20\n",
    "b = 20\n",
    "c = 200"
   ]
  },
  {
   "cell_type": "code",
   "execution_count": null,
   "id": "ecb5d68d",
   "metadata": {},
   "outputs": [],
   "source": [
    "?"
   ]
  },
  {
   "cell_type": "code",
   "execution_count": null,
   "id": "fdaab579",
   "metadata": {},
   "outputs": [],
   "source": [
    "?"
   ]
  },
  {
   "cell_type": "code",
   "execution_count": null,
   "id": "2d76c688",
   "metadata": {},
   "outputs": [],
   "source": [
    "?"
   ]
  },
  {
   "cell_type": "code",
   "execution_count": null,
   "id": "53c46c4f",
   "metadata": {},
   "outputs": [],
   "source": [
    "?"
   ]
  },
  {
   "cell_type": "code",
   "execution_count": null,
   "id": "04c1849b",
   "metadata": {},
   "outputs": [],
   "source": [
    "if (?):\n",
    "    print (\"a and b are equal\")\n",
    "else:\n",
    "    print (\"a and b are not equal\")\n"
   ]
  },
  {
   "cell_type": "code",
   "execution_count": null,
   "id": "6aec7e5b",
   "metadata": {},
   "outputs": [],
   "source": [
    "if (?):\n",
    "    print (\"a and b have same identity\")\n",
    "else:\n",
    "    print (\"a and b do not have same identity\")"
   ]
  },
  {
   "cell_type": "code",
   "execution_count": null,
   "id": "69bb6221",
   "metadata": {},
   "outputs": [],
   "source": [
    "if ( ? ):\n",
    "    print (\"a and c have same identity\")\n",
    "else:\n",
    "    print (\"a and c do not have same identity\")"
   ]
  },
  {
   "cell_type": "code",
   "execution_count": null,
   "id": "f4a0d3f3",
   "metadata": {},
   "outputs": [],
   "source": [
    "if ( ? ):\n",
    "    print (\"a and c do not have same identity\")\n",
    "else:\n",
    "    print (\"a and c have same identity\")"
   ]
  },
  {
   "cell_type": "code",
   "execution_count": null,
   "id": "66cd88b8",
   "metadata": {},
   "outputs": [],
   "source": [
    "l1 = [1, 2, 3]\n",
    "l2 = [1, 2, 3]\n",
    "# l2 = [3, 2, 1]\n",
    "print(?)"
   ]
  },
  {
   "cell_type": "code",
   "execution_count": null,
   "id": "03bb4cc7",
   "metadata": {},
   "outputs": [],
   "source": [
    "s1 = {1, 2, 3}\n",
    "s2 = {1, 2, 3}\n",
    "# s2 = {3, 2, 1}\n",
    "print(?)\n"
   ]
  },
  {
   "cell_type": "markdown",
   "id": "8f504548",
   "metadata": {},
   "source": [
    "## PRECEDENCE"
   ]
  },
  {
   "cell_type": "markdown",
   "id": "1e1bc089",
   "metadata": {},
   "source": [
    "- P – Parentheses\n",
    "- E – Exponentiation\n",
    "- M – Multiplication     (Multiplication and division have the same precedence)\n",
    "- D – Division\n",
    "- A – Addition     (Addition and subtraction have the same precedence)\n",
    "- S – Subtraction"
   ]
  },
  {
   "cell_type": "code",
   "execution_count": null,
   "id": "3f72ed24",
   "metadata": {},
   "outputs": [],
   "source": [
    "a = (3**2 + 5 * (20/5) * 4) - 10"
   ]
  },
  {
   "cell_type": "code",
   "execution_count": null,
   "id": "ea95599b",
   "metadata": {},
   "outputs": [],
   "source": [
    "a"
   ]
  },
  {
   "cell_type": "code",
   "execution_count": null,
   "id": "34ae9367",
   "metadata": {},
   "outputs": [],
   "source": []
  }
 ],
 "metadata": {
  "kernelspec": {
   "display_name": "Python 3 (ipykernel)",
   "language": "python",
   "name": "python3"
  },
  "language_info": {
   "codemirror_mode": {
    "name": "ipython",
    "version": 3
   },
   "file_extension": ".py",
   "mimetype": "text/x-python",
   "name": "python",
   "nbconvert_exporter": "python",
   "pygments_lexer": "ipython3",
   "version": "3.9.13"
  }
 },
 "nbformat": 4,
 "nbformat_minor": 5
}
